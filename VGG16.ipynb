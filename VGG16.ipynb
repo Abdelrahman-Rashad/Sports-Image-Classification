{
  "cells": [
    {
      "cell_type": "markdown",
      "metadata": {
        "id": "view-in-github",
        "colab_type": "text"
      },
      "source": [
        "<a href=\"https://colab.research.google.com/github/Abdelrahman-Rashad/Abdelrahman-Rashad/blob/main/VGG16.ipynb\" target=\"_parent\"><img src=\"https://colab.research.google.com/assets/colab-badge.svg\" alt=\"Open In Colab\"/></a>"
      ]
    },
    {
      "cell_type": "code",
      "execution_count": null,
      "metadata": {
        "colab": {
          "base_uri": "https://localhost:8080/"
        },
        "id": "Ccv4DxSibqRN",
        "outputId": "527b010a-c913-4b9a-9473-1d11402d26e4"
      },
      "outputs": [
        {
          "name": "stdout",
          "output_type": "stream",
          "text": [
            "Looking in indexes: https://pypi.org/simple, https://us-python.pkg.dev/colab-wheels/public/simple/\n",
            "Requirement already satisfied: tensorflow in /usr/local/lib/python3.8/dist-packages (2.9.2)\n",
            "Requirement already satisfied: google-pasta>=0.1.1 in /usr/local/lib/python3.8/dist-packages (from tensorflow) (0.2.0)\n",
            "Requirement already satisfied: protobuf<3.20,>=3.9.2 in /usr/local/lib/python3.8/dist-packages (from tensorflow) (3.19.6)\n",
            "Requirement already satisfied: tensorflow-estimator<2.10.0,>=2.9.0rc0 in /usr/local/lib/python3.8/dist-packages (from tensorflow) (2.9.0)\n",
            "Requirement already satisfied: astunparse>=1.6.0 in /usr/local/lib/python3.8/dist-packages (from tensorflow) (1.6.3)\n",
            "Requirement already satisfied: absl-py>=1.0.0 in /usr/local/lib/python3.8/dist-packages (from tensorflow) (1.3.0)\n",
            "Requirement already satisfied: tensorflow-io-gcs-filesystem>=0.23.1 in /usr/local/lib/python3.8/dist-packages (from tensorflow) (0.28.0)\n",
            "Requirement already satisfied: gast<=0.4.0,>=0.2.1 in /usr/local/lib/python3.8/dist-packages (from tensorflow) (0.4.0)\n",
            "Requirement already satisfied: flatbuffers<2,>=1.12 in /usr/local/lib/python3.8/dist-packages (from tensorflow) (1.12)\n",
            "Requirement already satisfied: tensorboard<2.10,>=2.9 in /usr/local/lib/python3.8/dist-packages (from tensorflow) (2.9.1)\n",
            "Requirement already satisfied: termcolor>=1.1.0 in /usr/local/lib/python3.8/dist-packages (from tensorflow) (2.1.1)\n",
            "Requirement already satisfied: six>=1.12.0 in /usr/local/lib/python3.8/dist-packages (from tensorflow) (1.15.0)\n",
            "Requirement already satisfied: libclang>=13.0.0 in /usr/local/lib/python3.8/dist-packages (from tensorflow) (14.0.6)\n",
            "Requirement already satisfied: opt-einsum>=2.3.2 in /usr/local/lib/python3.8/dist-packages (from tensorflow) (3.3.0)\n",
            "Requirement already satisfied: setuptools in /usr/local/lib/python3.8/dist-packages (from tensorflow) (57.4.0)\n",
            "Requirement already satisfied: packaging in /usr/local/lib/python3.8/dist-packages (from tensorflow) (21.3)\n",
            "Requirement already satisfied: wrapt>=1.11.0 in /usr/local/lib/python3.8/dist-packages (from tensorflow) (1.14.1)\n",
            "Requirement already satisfied: keras<2.10.0,>=2.9.0rc0 in /usr/local/lib/python3.8/dist-packages (from tensorflow) (2.9.0)\n",
            "Requirement already satisfied: grpcio<2.0,>=1.24.3 in /usr/local/lib/python3.8/dist-packages (from tensorflow) (1.51.1)\n",
            "Requirement already satisfied: typing-extensions>=3.6.6 in /usr/local/lib/python3.8/dist-packages (from tensorflow) (4.4.0)\n",
            "Requirement already satisfied: numpy>=1.20 in /usr/local/lib/python3.8/dist-packages (from tensorflow) (1.21.6)\n",
            "Requirement already satisfied: keras-preprocessing>=1.1.1 in /usr/local/lib/python3.8/dist-packages (from tensorflow) (1.1.2)\n",
            "Requirement already satisfied: h5py>=2.9.0 in /usr/local/lib/python3.8/dist-packages (from tensorflow) (3.1.0)\n",
            "Requirement already satisfied: wheel<1.0,>=0.23.0 in /usr/local/lib/python3.8/dist-packages (from astunparse>=1.6.0->tensorflow) (0.38.4)\n",
            "Requirement already satisfied: markdown>=2.6.8 in /usr/local/lib/python3.8/dist-packages (from tensorboard<2.10,>=2.9->tensorflow) (3.4.1)\n",
            "Requirement already satisfied: google-auth-oauthlib<0.5,>=0.4.1 in /usr/local/lib/python3.8/dist-packages (from tensorboard<2.10,>=2.9->tensorflow) (0.4.6)\n",
            "Requirement already satisfied: google-auth<3,>=1.6.3 in /usr/local/lib/python3.8/dist-packages (from tensorboard<2.10,>=2.9->tensorflow) (2.15.0)\n",
            "Requirement already satisfied: requests<3,>=2.21.0 in /usr/local/lib/python3.8/dist-packages (from tensorboard<2.10,>=2.9->tensorflow) (2.23.0)\n",
            "Requirement already satisfied: tensorboard-plugin-wit>=1.6.0 in /usr/local/lib/python3.8/dist-packages (from tensorboard<2.10,>=2.9->tensorflow) (1.8.1)\n",
            "Requirement already satisfied: tensorboard-data-server<0.7.0,>=0.6.0 in /usr/local/lib/python3.8/dist-packages (from tensorboard<2.10,>=2.9->tensorflow) (0.6.1)\n",
            "Requirement already satisfied: werkzeug>=1.0.1 in /usr/local/lib/python3.8/dist-packages (from tensorboard<2.10,>=2.9->tensorflow) (1.0.1)\n",
            "Requirement already satisfied: rsa<5,>=3.1.4 in /usr/local/lib/python3.8/dist-packages (from google-auth<3,>=1.6.3->tensorboard<2.10,>=2.9->tensorflow) (4.9)\n",
            "Requirement already satisfied: pyasn1-modules>=0.2.1 in /usr/local/lib/python3.8/dist-packages (from google-auth<3,>=1.6.3->tensorboard<2.10,>=2.9->tensorflow) (0.2.8)\n",
            "Requirement already satisfied: cachetools<6.0,>=2.0.0 in /usr/local/lib/python3.8/dist-packages (from google-auth<3,>=1.6.3->tensorboard<2.10,>=2.9->tensorflow) (5.2.0)\n",
            "Requirement already satisfied: requests-oauthlib>=0.7.0 in /usr/local/lib/python3.8/dist-packages (from google-auth-oauthlib<0.5,>=0.4.1->tensorboard<2.10,>=2.9->tensorflow) (1.3.1)\n",
            "Requirement already satisfied: importlib-metadata>=4.4 in /usr/local/lib/python3.8/dist-packages (from markdown>=2.6.8->tensorboard<2.10,>=2.9->tensorflow) (5.1.0)\n",
            "Requirement already satisfied: zipp>=0.5 in /usr/local/lib/python3.8/dist-packages (from importlib-metadata>=4.4->markdown>=2.6.8->tensorboard<2.10,>=2.9->tensorflow) (3.11.0)\n",
            "Requirement already satisfied: pyasn1<0.5.0,>=0.4.6 in /usr/local/lib/python3.8/dist-packages (from pyasn1-modules>=0.2.1->google-auth<3,>=1.6.3->tensorboard<2.10,>=2.9->tensorflow) (0.4.8)\n",
            "Requirement already satisfied: chardet<4,>=3.0.2 in /usr/local/lib/python3.8/dist-packages (from requests<3,>=2.21.0->tensorboard<2.10,>=2.9->tensorflow) (3.0.4)\n",
            "Requirement already satisfied: idna<3,>=2.5 in /usr/local/lib/python3.8/dist-packages (from requests<3,>=2.21.0->tensorboard<2.10,>=2.9->tensorflow) (2.10)\n",
            "Requirement already satisfied: urllib3!=1.25.0,!=1.25.1,<1.26,>=1.21.1 in /usr/local/lib/python3.8/dist-packages (from requests<3,>=2.21.0->tensorboard<2.10,>=2.9->tensorflow) (1.24.3)\n",
            "Requirement already satisfied: certifi>=2017.4.17 in /usr/local/lib/python3.8/dist-packages (from requests<3,>=2.21.0->tensorboard<2.10,>=2.9->tensorflow) (2022.12.7)\n",
            "Requirement already satisfied: oauthlib>=3.0.0 in /usr/local/lib/python3.8/dist-packages (from requests-oauthlib>=0.7.0->google-auth-oauthlib<0.5,>=0.4.1->tensorboard<2.10,>=2.9->tensorflow) (3.2.2)\n",
            "Requirement already satisfied: pyparsing!=3.0.5,>=2.0.2 in /usr/local/lib/python3.8/dist-packages (from packaging->tensorflow) (3.0.9)\n"
          ]
        }
      ],
      "source": [
        "!pip install tensorflow"
      ]
    },
    {
      "cell_type": "code",
      "execution_count": null,
      "metadata": {
        "id": "7WSAQX1nrPzn"
      },
      "outputs": [],
      "source": [
        "import numpy as np\n",
        "import pandas as pd\n",
        "from matplotlib import pyplot as plt\n",
        "import cv2\n",
        "\n",
        "import glob\n",
        "import matplotlib.pyplot as plt\n",
        "\n",
        "import tensorflow.keras.layers as tfl\n",
        "from tensorflow.keras.models import Sequential, Model\n",
        "from tensorflow.keras.layers import  Dense, BatchNormalization, ReLU, Dropout, Conv2D, MaxPooling2D, Flatten, Add, GlobalAveragePooling2D, concatenate#, Average, Concatenate, SpatialDropout2D\n",
        "from tensorflow.keras.regularizers import L1L2\n",
        "from tensorflow.keras import Input,models\n",
        "from tensorflow.keras.utils import to_categorical\n",
        "from tensorflow.keras.losses import SparseCategoricalCrossentropy\n",
        "from tensorflow.keras.optimizers import Adam\n",
        "\n",
        "from sklearn.model_selection import train_test_split\n",
        "\n",
        "import imgaug as ia\n",
        "import imgaug.augmenters as iaa\n",
        "\n",
        "from google.colab import drive\n",
        "from google.colab import files\n"
      ]
    },
    {
      "cell_type": "code",
      "execution_count": null,
      "metadata": {
        "colab": {
          "base_uri": "https://localhost:8080/"
        },
        "id": "ttEclBcarSce",
        "outputId": "e6b385d0-6c25-4bca-f650-f403a274b5e7"
      },
      "outputs": [
        {
          "output_type": "stream",
          "name": "stdout",
          "text": [
            "Mounted at /content/drive\n",
            "/content/drive/MyDrive/Colab Notebooks\n"
          ]
        }
      ],
      "source": [
        "drive.mount(\"/content/drive\", force_remount=True)\n",
        "%cd drive/MyDrive/Colab Notebooks/"
      ]
    },
    {
      "cell_type": "code",
      "execution_count": null,
      "metadata": {
        "id": "Ga-HU4QDrW2W"
      },
      "outputs": [],
      "source": [
        "label_encoder = {\"Basketball\" : 0, \"Football\" : 1, \"Rowing\" : 2, \"Swimming\" : 3, \"Tennis\" : 4, \"Yoga\" : 5}"
      ]
    },
    {
      "cell_type": "code",
      "execution_count": null,
      "metadata": {
        "id": "hXhz_8IMrZBW"
      },
      "outputs": [],
      "source": [
        "augmentation = iaa.Sequential([\n",
        "    # 1. Horizontal Flip\n",
        "    iaa.Fliplr(0.5),\n",
        "    # 2. Affine\n",
        "    iaa.Affine(translate_percent={\"x\": (-0.2, 0.2), \"y\": (-0.2, 0.2)},\n",
        "               rotate=(-10, 10),\n",
        "               scale=(0.9, 1.2),\n",
        "                shear=(-2, 2),),\n",
        "               \n",
        "    # 3. Multiply => Multiplies images by a random value sampled uniformly from the interval [0.8, 1.2], making some images darker and others brighter.\n",
        "    iaa.Multiply((0.8, 1.2)),\n",
        "    # 4. Linearcontrast\n",
        "    iaa.LinearContrast((0.8, 1.2)),\n",
        "    # Perform methods below only sometimes\n",
        "    iaa.Sometimes(0.7,\n",
        "        # 5. GaussianBlur\n",
        "        iaa.GaussianBlur((0.2, 0.5))\n",
        "        )\n",
        "])\n"
      ]
    },
    {
      "cell_type": "code",
      "execution_count": null,
      "metadata": {
        "id": "2VFzgTS2rbVm"
      },
      "outputs": [],
      "source": [
        "imgsP1 = glob.glob(f\"/content/drive/MyDrive/NN_DataSet/Train/*\")\n",
        "TrainImgs = []\n",
        "TrainLabel = []\n",
        "# x = 325 , y = 420\n",
        "for f in imgsP1: \n",
        "  img = cv2.imread(f)\n",
        "  img = cv2.cvtColor(img, cv2.COLOR_BGR2RGB)\n",
        "  img = img.astype(np.float32)\n",
        "  img = cv2.resize(img, (192,192), interpolation = cv2.INTER_AREA)\n",
        "  \n",
        "  TrainImgs.append(img/255)\n",
        "  l =  label_encoder[f.split('/')[6].split('_')[0]]\n",
        "  TrainLabel.append(l)\n",
        "\n",
        "  # ??????\n",
        "  n = 5 if l == 0 else 3\n",
        "\n",
        "  for i in range(n):\n",
        "    augmented_img = augmentation(image=img)\n",
        "    TrainImgs.append(augmented_img/255)\n",
        "    TrainLabel.append(l)\n",
        "\n",
        "\n",
        "TrainImgs = np.array(TrainImgs)\n",
        "TrainLabel = np.reshape(TrainLabel,(-1,1))\n",
        "del imgsP1"
      ]
    },
    {
      "cell_type": "code",
      "execution_count": null,
      "metadata": {
        "id": "swFps0lSrdZG"
      },
      "outputs": [],
      "source": [
        "X_train, X_test, y_train, y_test = train_test_split(TrainImgs, TrainLabel, test_size=0.2, random_state=32)"
      ]
    },
    {
      "cell_type": "code",
      "execution_count": null,
      "metadata": {
        "colab": {
          "base_uri": "https://localhost:8080/"
        },
        "id": "3QajtHdUrgGm",
        "outputId": "ce20d223-59ee-4402-967d-64a42380a990"
      },
      "outputs": [
        {
          "output_type": "execute_result",
          "data": {
            "text/plain": [
              "((5692, 192, 192, 3), (1424, 192, 192, 3))"
            ]
          },
          "metadata": {},
          "execution_count": 8
        }
      ],
      "source": [
        "X_train.shape, X_test.shape"
      ]
    },
    {
      "cell_type": "code",
      "execution_count": null,
      "metadata": {
        "id": "RRxNCYyVrh_G"
      },
      "outputs": [],
      "source": [
        "del TrainImgs\n",
        "del TrainLabel"
      ]
    },
    {
      "cell_type": "code",
      "execution_count": null,
      "metadata": {
        "colab": {
          "base_uri": "https://localhost:8080/",
          "height": 304
        },
        "id": "ZC5aAJVorj8W",
        "outputId": "44d5f5b5-b7cb-4220-cc82-0891044172e2"
      },
      "outputs": [
        {
          "output_type": "stream",
          "name": "stderr",
          "text": [
            "WARNING:matplotlib.image:Clipping input data to the valid range for imshow with RGB data ([0..1] for floats or [0..255] for integers).\n"
          ]
        },
        {
          "output_type": "execute_result",
          "data": {
            "text/plain": [
              "<matplotlib.image.AxesImage at 0x7fbe51d82d30>"
            ]
          },
          "metadata": {},
          "execution_count": 10
        },
        {
          "output_type": "display_data",
          "data": {
            "text/plain": [
              "<Figure size 432x288 with 1 Axes>"
            ],
            "image/png": "[encoded data removed]"
          },
          "metadata": {
            "needs_background": "light"
          }
        }
      ],
      "source": [
        "plt.imshow(X_train[2,:])"
      ]
    },
    {
      "cell_type": "code",
      "execution_count": null,
      "metadata": {
        "id": "yxLsdZMdrOrF"
      },
      "outputs": [],
      "source": [
        "model = Sequential([\n",
        "  Input(shape=(192,192,3)),    \n",
        "  BatchNormalization(),\n",
        "\n",
        "  Conv2D(filters=32,kernel_size=(3,3),padding=\"same\", activation=\"relu\"),\n",
        "  Conv2D(filters=32,kernel_size=3,padding=\"same\", activation=\"relu\"),\n",
        "  MaxPooling2D(pool_size=2,strides=2),\n",
        "\n",
        "  Conv2D(filters=32, kernel_size=3, padding=\"same\", activation=\"relu\"),\n",
        "  Conv2D(filters=32, kernel_size=3, padding=\"same\", activation=\"relu\"),\n",
        "  MaxPooling2D(pool_size=2,strides=2),\n",
        "\n",
        "  Conv2D(filters=64, kernel_size=3, padding=\"same\", activation=\"relu\"),\n",
        "  Conv2D(filters=64, kernel_size=3, padding=\"same\", activation=\"relu\"),\n",
        "  Conv2D(filters=64, kernel_size=3, padding=\"same\", activation=\"relu\"),\n",
        "  MaxPooling2D(pool_size=2,strides=2),\n",
        "\n",
        "  Conv2D(filters=128, kernel_size=3, padding=\"same\", activation=\"relu\"),\n",
        "  Conv2D(filters=128, kernel_size=3, padding=\"same\", activation=\"relu\"),\n",
        "  Conv2D(filters=128, kernel_size=3, padding=\"same\", activation=\"relu\"),\n",
        "  MaxPooling2D(pool_size=2,strides=2),\n",
        "\n",
        "  Conv2D(filters=128, kernel_size=3, padding=\"same\", activation=\"relu\"),\n",
        "  Conv2D(filters=256, kernel_size=3, padding=\"same\", activation=\"relu\"),\n",
        "  Conv2D(filters=256, kernel_size=3, padding=\"same\", activation=\"relu\"),\n",
        "  MaxPooling2D(pool_size=2,strides=2),\n",
        "\n",
        "  Flatten(),\n",
        "  Dense(units=128,activation=\"relu\",kernel_regularizer=L1L2(0.001,0.01)),\n",
        "  Dropout(0.6),\n",
        "\n",
        "  Dense(units=64,activation=\"relu\",kernel_regularizer=L1L2(0.001,0.01)),\n",
        "  Dropout(0.4),\n",
        "  \n",
        "  Dense(units=6, activation=\"softmax\"),\n",
        "])"
      ]
    },
    {
      "cell_type": "code",
      "execution_count": null,
      "metadata": {
        "colab": {
          "base_uri": "https://localhost:8080/"
        },
        "id": "bNKnP-EGrol3",
        "outputId": "0944a150-3189-4986-da9e-54a58aaa99de"
      },
      "outputs": [
        {
          "output_type": "stream",
          "name": "stdout",
          "text": [
            "Model: \"sequential\"\n",
            "_________________________________________________________________\n",
            " Layer (type)                Output Shape              Param #   \n",
            "=================================================================\n",
            " batch_normalization (BatchN  (None, 192, 192, 3)      12        \n",
            " ormalization)                                                   \n",
            "                                                                 \n",
            " conv2d (Conv2D)             (None, 192, 192, 32)      896       \n",
            "                                                                 \n",
            " conv2d_1 (Conv2D)           (None, 192, 192, 32)      9248      \n",
            "                                                                 \n",
            " max_pooling2d (MaxPooling2D  (None, 96, 96, 32)       0         \n",
            " )                                                               \n",
            "                                                                 \n",
            " conv2d_2 (Conv2D)           (None, 96, 96, 32)        9248      \n",
            "                                                                 \n",
            " conv2d_3 (Conv2D)           (None, 96, 96, 32)        9248      \n",
            "                                                                 \n",
            " max_pooling2d_1 (MaxPooling  (None, 48, 48, 32)       0         \n",
            " 2D)                                                             \n",
            "                                                                 \n",
            " conv2d_4 (Conv2D)           (None, 48, 48, 64)        18496     \n",
            "                                                                 \n",
            " conv2d_5 (Conv2D)           (None, 48, 48, 64)        36928     \n",
            "                                                                 \n",
            " conv2d_6 (Conv2D)           (None, 48, 48, 64)        36928     \n",
            "                                                                 \n",
            " max_pooling2d_2 (MaxPooling  (None, 24, 24, 64)       0         \n",
            " 2D)                                                             \n",
            "                                                                 \n",
            " conv2d_7 (Conv2D)           (None, 24, 24, 128)       73856     \n",
            "                                                                 \n",
            " conv2d_8 (Conv2D)           (None, 24, 24, 128)       147584    \n",
            "                                                                 \n",
            " conv2d_9 (Conv2D)           (None, 24, 24, 128)       147584    \n",
            "                                                                 \n",
            " max_pooling2d_3 (MaxPooling  (None, 12, 12, 128)      0         \n",
            " 2D)                                                             \n",
            "                                                                 \n",
            " conv2d_10 (Conv2D)          (None, 12, 12, 128)       147584    \n",
            "                                                                 \n",
            " conv2d_11 (Conv2D)          (None, 12, 12, 256)       295168    \n",
            "                                                                 \n",
            " conv2d_12 (Conv2D)          (None, 12, 12, 256)       590080    \n",
            "                                                                 \n",
            " max_pooling2d_4 (MaxPooling  (None, 6, 6, 256)        0         \n",
            " 2D)                                                             \n",
            "                                                                 \n",
            " flatten (Flatten)           (None, 9216)              0         \n",
            "                                                                 \n",
            " dense (Dense)               (None, 128)               1179776   \n",
            "                                                                 \n",
            " dropout (Dropout)           (None, 128)               0         \n",
            "                                                                 \n",
            " dense_1 (Dense)             (None, 64)                8256      \n",
            "                                                                 \n",
            " dropout_1 (Dropout)         (None, 64)                0         \n",
            "                                                                 \n",
            " dense_2 (Dense)             (None, 6)                 390       \n",
            "                                                                 \n",
            "=================================================================\n",
            "Total params: 2,711,282\n",
            "Trainable params: 2,711,276\n",
            "Non-trainable params: 6\n",
            "_________________________________________________________________\n"
          ]
        }
      ],
      "source": [
        "model.summary()"
      ]
    },
    {
      "cell_type": "code",
      "execution_count": null,
      "metadata": {
        "id": "ybNpRhL7ro7O"
      },
      "outputs": [],
      "source": [
        "model.compile(optimizer=Adam(learning_rate=0.0005,)\n",
        ",loss=SparseCategoricalCrossentropy()\n",
        "           ,metrics=[\"accuracy\"] )#,metrics=[\"accuracy\"]"
      ]
    },
    {
      "cell_type": "code",
      "execution_count": null,
      "metadata": {
        "colab": {
          "base_uri": "https://localhost:8080/"
        },
        "id": "7Qm3YqJprpLO",
        "outputId": "08a861b3-4d25-4319-b3ae-7dd2114bb8d2"
      },
      "outputs": [
        {
          "output_type": "stream",
          "name": "stdout",
          "text": [
            "Epoch 1/50\n",
            "89/89 [==============================] - 29s 198ms/step - loss: 6.7539 - accuracy: 0.3080\n",
            "Epoch 2/50\n",
            "89/89 [==============================] - 15s 171ms/step - loss: 2.3896 - accuracy: 0.3969\n",
            "Epoch 3/50\n",
            "89/89 [==============================] - 15s 173ms/step - loss: 1.9296 - accuracy: 0.4498\n",
            "Epoch 4/50\n",
            "89/89 [==============================] - 16s 174ms/step - loss: 1.7097 - accuracy: 0.5121\n",
            "Epoch 5/50\n",
            "89/89 [==============================] - 16s 176ms/step - loss: 1.5466 - accuracy: 0.5332\n",
            "Epoch 6/50\n",
            "89/89 [==============================] - 16s 177ms/step - loss: 1.4274 - accuracy: 0.5838\n",
            "Epoch 7/50\n",
            "89/89 [==============================] - 16s 180ms/step - loss: 1.3178 - accuracy: 0.6304\n",
            "Epoch 8/50\n",
            "89/89 [==============================] - 16s 180ms/step - loss: 1.1948 - accuracy: 0.6595\n",
            "Epoch 9/50\n",
            "89/89 [==============================] - 16s 179ms/step - loss: 1.1050 - accuracy: 0.6743\n",
            "Epoch 10/50\n",
            "89/89 [==============================] - 16s 178ms/step - loss: 1.0512 - accuracy: 0.6889\n",
            "Epoch 11/50\n",
            "89/89 [==============================] - 16s 179ms/step - loss: 1.0266 - accuracy: 0.7070\n",
            "Epoch 12/50\n",
            "89/89 [==============================] - 16s 179ms/step - loss: 1.0008 - accuracy: 0.7258\n",
            "Epoch 13/50\n",
            "89/89 [==============================] - 16s 179ms/step - loss: 0.9329 - accuracy: 0.7372\n",
            "Epoch 14/50\n",
            "89/89 [==============================] - 16s 179ms/step - loss: 0.8755 - accuracy: 0.7665\n",
            "Epoch 15/50\n",
            "89/89 [==============================] - 16s 179ms/step - loss: 0.8685 - accuracy: 0.7758\n",
            "Epoch 16/50\n",
            "89/89 [==============================] - 16s 179ms/step - loss: 0.8262 - accuracy: 0.7930\n",
            "Epoch 17/50\n",
            "89/89 [==============================] - 16s 179ms/step - loss: 0.7843 - accuracy: 0.8076\n",
            "Epoch 18/50\n",
            "89/89 [==============================] - 16s 179ms/step - loss: 0.7711 - accuracy: 0.8111\n",
            "Epoch 19/50\n",
            "89/89 [==============================] - 16s 179ms/step - loss: 0.7411 - accuracy: 0.8125\n",
            "Epoch 20/50\n",
            "89/89 [==============================] - 16s 179ms/step - loss: 0.7341 - accuracy: 0.8208\n",
            "Epoch 21/50\n",
            "89/89 [==============================] - 16s 179ms/step - loss: 0.6786 - accuracy: 0.8329\n",
            "Epoch 22/50\n",
            "89/89 [==============================] - 16s 179ms/step - loss: 0.6615 - accuracy: 0.8380\n",
            "Epoch 23/50\n",
            "89/89 [==============================] - 16s 179ms/step - loss: 0.6704 - accuracy: 0.8417\n",
            "Epoch 24/50\n",
            "89/89 [==============================] - 16s 179ms/step - loss: 0.6375 - accuracy: 0.8482\n",
            "Epoch 25/50\n",
            "89/89 [==============================] - 16s 179ms/step - loss: 0.6212 - accuracy: 0.8542\n",
            "Epoch 26/50\n",
            "89/89 [==============================] - 16s 180ms/step - loss: 0.6013 - accuracy: 0.8586\n",
            "Epoch 27/50\n",
            "89/89 [==============================] - 16s 179ms/step - loss: 0.5625 - accuracy: 0.8693\n",
            "Epoch 28/50\n",
            "89/89 [==============================] - 16s 179ms/step - loss: 0.5715 - accuracy: 0.8754\n",
            "Epoch 29/50\n",
            "89/89 [==============================] - 16s 178ms/step - loss: 0.5668 - accuracy: 0.8795\n",
            "Epoch 30/50\n",
            "89/89 [==============================] - 16s 179ms/step - loss: 0.5192 - accuracy: 0.8949\n",
            "Epoch 31/50\n",
            "89/89 [==============================] - 16s 178ms/step - loss: 0.4838 - accuracy: 0.9027\n",
            "Epoch 32/50\n",
            "89/89 [==============================] - 16s 179ms/step - loss: 0.4938 - accuracy: 0.9051\n",
            "Epoch 33/50\n",
            "89/89 [==============================] - 16s 179ms/step - loss: 0.4802 - accuracy: 0.9095\n",
            "Epoch 34/50\n",
            "89/89 [==============================] - 16s 179ms/step - loss: 0.4938 - accuracy: 0.9041\n",
            "Epoch 35/50\n",
            "89/89 [==============================] - 16s 179ms/step - loss: 0.4731 - accuracy: 0.9136\n",
            "Epoch 36/50\n",
            "89/89 [==============================] - 16s 178ms/step - loss: 0.4700 - accuracy: 0.9104\n",
            "Epoch 37/50\n",
            "89/89 [==============================] - 16s 179ms/step - loss: 0.4476 - accuracy: 0.9181\n",
            "Epoch 38/50\n",
            "89/89 [==============================] - 16s 179ms/step - loss: 0.4447 - accuracy: 0.9209\n",
            "Epoch 39/50\n",
            "89/89 [==============================] - 16s 180ms/step - loss: 0.4068 - accuracy: 0.9332\n",
            "Epoch 40/50\n",
            "89/89 [==============================] - 16s 179ms/step - loss: 0.3961 - accuracy: 0.9448\n",
            "Epoch 41/50\n",
            "89/89 [==============================] - 16s 179ms/step - loss: 0.4419 - accuracy: 0.9276\n",
            "Epoch 42/50\n",
            "89/89 [==============================] - 16s 179ms/step - loss: 0.4182 - accuracy: 0.9341\n",
            "Epoch 43/50\n",
            "89/89 [==============================] - 16s 179ms/step - loss: 0.3853 - accuracy: 0.9457\n",
            "Epoch 44/50\n",
            "89/89 [==============================] - 16s 179ms/step - loss: 0.3838 - accuracy: 0.9468\n",
            "Epoch 45/50\n",
            "89/89 [==============================] - 16s 179ms/step - loss: 0.3825 - accuracy: 0.9505\n",
            "Epoch 46/50\n",
            "89/89 [==============================] - 16s 179ms/step - loss: 0.3649 - accuracy: 0.9547\n",
            "Epoch 47/50\n",
            "89/89 [==============================] - 16s 179ms/step - loss: 0.3972 - accuracy: 0.9450\n",
            "Epoch 48/50\n",
            "89/89 [==============================] - 16s 178ms/step - loss: 0.3847 - accuracy: 0.9513\n",
            "Epoch 49/50\n",
            "89/89 [==============================] - 16s 179ms/step - loss: 0.3728 - accuracy: 0.9529\n",
            "Epoch 50/50\n",
            "89/89 [==============================] - 16s 179ms/step - loss: 0.2897 - accuracy: 0.9742\n"
          ]
        },
        {
          "output_type": "execute_result",
          "data": {
            "text/plain": [
              "<keras.callbacks.History at 0x7fbe562a3e50>"
            ]
          },
          "metadata": {},
          "execution_count": 14
        }
      ],
      "source": [
        "model.fit(X_train, y_train, batch_size=64, epochs=50)"
      ]
    },
    {
      "cell_type": "code",
      "execution_count": null,
      "metadata": {
        "colab": {
          "base_uri": "https://localhost:8080/"
        },
        "id": "AJf7YBKis_bO",
        "outputId": "3bc630d8-1b09-40e7-94a9-34f7c5eb4a3b"
      },
      "outputs": [
        {
          "output_type": "stream",
          "name": "stdout",
          "text": [
            "178/178 [==============================] - 7s 31ms/step\n"
          ]
        },
        {
          "output_type": "execute_result",
          "data": {
            "text/plain": [
              "0.977512297962052"
            ]
          },
          "metadata": {},
          "execution_count": 15
        }
      ],
      "source": [
        "Ptest = model.predict(X_train)\n",
        "s1 = np.sum(np.argmax(Ptest, axis=1) == y_train[:,0])/Ptest.shape[0]\n",
        "del Ptest\n",
        "del X_train\n",
        "del y_train\n",
        "s1"
      ]
    },
    {
      "cell_type": "code",
      "execution_count": null,
      "metadata": {
        "colab": {
          "base_uri": "https://localhost:8080/"
        },
        "id": "4g7JrRzBtBwO",
        "outputId": "9b21625b-4235-490d-dcc5-cca455a458ff"
      },
      "outputs": [
        {
          "output_type": "stream",
          "name": "stdout",
          "text": [
            "45/45 [==============================] - 2s 38ms/step\n"
          ]
        },
        {
          "output_type": "execute_result",
          "data": {
            "text/plain": [
              "0.9002808988764045"
            ]
          },
          "metadata": {},
          "execution_count": 16
        }
      ],
      "source": [
        "Ptest = model.predict(X_test)\n",
        "s2 = np.sum(np.argmax(Ptest, axis=1) == y_test[:,0])/Ptest.shape[0]\n",
        "del Ptest\n",
        "del X_test\n",
        "del y_test\n",
        "s2"
      ]
    },
    {
      "cell_type": "code",
      "execution_count": null,
      "metadata": {
        "id": "VeBZIMDEtFzW"
      },
      "outputs": [],
      "source": [
        "imgsP2 = glob.glob(f\"/content/drive/MyDrive/NN_DataSet/Test/*\")\n",
        "TestImgs = []\n",
        "testID = []\n",
        "# x = 500 , y = 700\n",
        "for f in imgsP2:\n",
        "  img = cv2.imread(f)\n",
        "  img = cv2.cvtColor(img, cv2.COLOR_BGR2RGB)\n",
        "  img = img.astype(np.float32)\n",
        "  img = cv2.resize(img, (192,192), interpolation = cv2.INTER_AREA)\n",
        "\n",
        "\n",
        "  img /= 255\n",
        "  TestImgs.append(img)\n",
        "  testID.append(f.split('/')[6])\n",
        "\n",
        "TestImgs = np.array(TestImgs)\n",
        "del imgsP2"
      ]
    },
    {
      "cell_type": "code",
      "execution_count": null,
      "metadata": {
        "colab": {
          "base_uri": "https://localhost:8080/"
        },
        "id": "FrCZhs2DtJbf",
        "outputId": "43acca78-7edd-427d-a268-aa2132bdd762"
      },
      "outputs": [
        {
          "output_type": "stream",
          "name": "stdout",
          "text": [
            "22/22 [==============================] - 1s 33ms/step\n"
          ]
        }
      ],
      "source": [
        "tests = model.predict(TestImgs)\n",
        "tests = np.argmax(tests, axis=1)\n",
        "col1 = pd.DataFrame(testID,columns=[\"image_name\"]).reset_index(drop=True)\n",
        "col2 = pd.DataFrame(tests,columns=[\"label\"]).reset_index(drop=True)\n",
        "sub = pd.concat([col1,col2],axis=1)#.reset_index(drop=True)\n",
        "sub.to_csv(\"./submissionVGG1.csv\",index=False)"
      ]
    },
    {
      "cell_type": "code",
      "source": [],
      "metadata": {
        "id": "W80JcJ2Xm6WY"
      },
      "execution_count": null,
      "outputs": []
    }
  ],
  "metadata": {
    "accelerator": "GPU",
    "colab": {
      "provenance": [],
      "include_colab_link": true
    },
    "gpuClass": "standard",
    "kernelspec": {
      "display_name": "Python 3",
      "name": "python3"
    },
    "language_info": {
      "name": "python"
    }
  },
  "nbformat": 4,
  "nbformat_minor": 0
}